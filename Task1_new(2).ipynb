{
  "nbformat": 4,
  "nbformat_minor": 0,
  "metadata": {
    "colab": {
      "provenance": [],
      "gpuType": "T4"
    },
    "kernelspec": {
      "name": "python3",
      "display_name": "Python 3"
    },
    "language_info": {
      "name": "python"
    },
    "accelerator": "GPU",
    "widgets": {
      "application/vnd.jupyter.widget-state+json": {
        "e17825e43e924729b90a87bced6d92a3": {
          "model_module": "@jupyter-widgets/controls",
          "model_name": "HBoxModel",
          "model_module_version": "1.5.0",
          "state": {
            "_dom_classes": [],
            "_model_module": "@jupyter-widgets/controls",
            "_model_module_version": "1.5.0",
            "_model_name": "HBoxModel",
            "_view_count": null,
            "_view_module": "@jupyter-widgets/controls",
            "_view_module_version": "1.5.0",
            "_view_name": "HBoxView",
            "box_style": "",
            "children": [
              "IPY_MODEL_587325c0ba2749979d1a230b0b766eb8",
              "IPY_MODEL_1d5eeffeeab44c5f9577c6a9c1174fad",
              "IPY_MODEL_4713d73a01b4496dbdea00cc62c1888d"
            ],
            "layout": "IPY_MODEL_137beb591534450a8910382709c2ce49"
          }
        },
        "587325c0ba2749979d1a230b0b766eb8": {
          "model_module": "@jupyter-widgets/controls",
          "model_name": "HTMLModel",
          "model_module_version": "1.5.0",
          "state": {
            "_dom_classes": [],
            "_model_module": "@jupyter-widgets/controls",
            "_model_module_version": "1.5.0",
            "_model_name": "HTMLModel",
            "_view_count": null,
            "_view_module": "@jupyter-widgets/controls",
            "_view_module_version": "1.5.0",
            "_view_name": "HTMLView",
            "description": "",
            "description_tooltip": null,
            "layout": "IPY_MODEL_36dcab072c0a48f4b166e70136ffccb2",
            "placeholder": "​",
            "style": "IPY_MODEL_87414d251e844ec981d3126aaf162c83",
            "value": "Generating train split: "
          }
        },
        "1d5eeffeeab44c5f9577c6a9c1174fad": {
          "model_module": "@jupyter-widgets/controls",
          "model_name": "FloatProgressModel",
          "model_module_version": "1.5.0",
          "state": {
            "_dom_classes": [],
            "_model_module": "@jupyter-widgets/controls",
            "_model_module_version": "1.5.0",
            "_model_name": "FloatProgressModel",
            "_view_count": null,
            "_view_module": "@jupyter-widgets/controls",
            "_view_module_version": "1.5.0",
            "_view_name": "ProgressView",
            "bar_style": "success",
            "description": "",
            "description_tooltip": null,
            "layout": "IPY_MODEL_2a4de73130e74b02becaee928da1ddc7",
            "max": 1,
            "min": 0,
            "orientation": "horizontal",
            "style": "IPY_MODEL_6872280a0ef54227b29195cc380c1476",
            "value": 1
          }
        },
        "4713d73a01b4496dbdea00cc62c1888d": {
          "model_module": "@jupyter-widgets/controls",
          "model_name": "HTMLModel",
          "model_module_version": "1.5.0",
          "state": {
            "_dom_classes": [],
            "_model_module": "@jupyter-widgets/controls",
            "_model_module_version": "1.5.0",
            "_model_name": "HTMLModel",
            "_view_count": null,
            "_view_module": "@jupyter-widgets/controls",
            "_view_module_version": "1.5.0",
            "_view_name": "HTMLView",
            "description": "",
            "description_tooltip": null,
            "layout": "IPY_MODEL_14872411aa7849908d74e59f2596cca0",
            "placeholder": "​",
            "style": "IPY_MODEL_19a8ee0880c34682864671ca88579d51",
            "value": " 901/0 [00:00&lt;00:00, 4320.78 examples/s]"
          }
        },
        "137beb591534450a8910382709c2ce49": {
          "model_module": "@jupyter-widgets/base",
          "model_name": "LayoutModel",
          "model_module_version": "1.2.0",
          "state": {
            "_model_module": "@jupyter-widgets/base",
            "_model_module_version": "1.2.0",
            "_model_name": "LayoutModel",
            "_view_count": null,
            "_view_module": "@jupyter-widgets/base",
            "_view_module_version": "1.2.0",
            "_view_name": "LayoutView",
            "align_content": null,
            "align_items": null,
            "align_self": null,
            "border": null,
            "bottom": null,
            "display": null,
            "flex": null,
            "flex_flow": null,
            "grid_area": null,
            "grid_auto_columns": null,
            "grid_auto_flow": null,
            "grid_auto_rows": null,
            "grid_column": null,
            "grid_gap": null,
            "grid_row": null,
            "grid_template_areas": null,
            "grid_template_columns": null,
            "grid_template_rows": null,
            "height": null,
            "justify_content": null,
            "justify_items": null,
            "left": null,
            "margin": null,
            "max_height": null,
            "max_width": null,
            "min_height": null,
            "min_width": null,
            "object_fit": null,
            "object_position": null,
            "order": null,
            "overflow": null,
            "overflow_x": null,
            "overflow_y": null,
            "padding": null,
            "right": null,
            "top": null,
            "visibility": null,
            "width": null
          }
        },
        "36dcab072c0a48f4b166e70136ffccb2": {
          "model_module": "@jupyter-widgets/base",
          "model_name": "LayoutModel",
          "model_module_version": "1.2.0",
          "state": {
            "_model_module": "@jupyter-widgets/base",
            "_model_module_version": "1.2.0",
            "_model_name": "LayoutModel",
            "_view_count": null,
            "_view_module": "@jupyter-widgets/base",
            "_view_module_version": "1.2.0",
            "_view_name": "LayoutView",
            "align_content": null,
            "align_items": null,
            "align_self": null,
            "border": null,
            "bottom": null,
            "display": null,
            "flex": null,
            "flex_flow": null,
            "grid_area": null,
            "grid_auto_columns": null,
            "grid_auto_flow": null,
            "grid_auto_rows": null,
            "grid_column": null,
            "grid_gap": null,
            "grid_row": null,
            "grid_template_areas": null,
            "grid_template_columns": null,
            "grid_template_rows": null,
            "height": null,
            "justify_content": null,
            "justify_items": null,
            "left": null,
            "margin": null,
            "max_height": null,
            "max_width": null,
            "min_height": null,
            "min_width": null,
            "object_fit": null,
            "object_position": null,
            "order": null,
            "overflow": null,
            "overflow_x": null,
            "overflow_y": null,
            "padding": null,
            "right": null,
            "top": null,
            "visibility": null,
            "width": null
          }
        },
        "87414d251e844ec981d3126aaf162c83": {
          "model_module": "@jupyter-widgets/controls",
          "model_name": "DescriptionStyleModel",
          "model_module_version": "1.5.0",
          "state": {
            "_model_module": "@jupyter-widgets/controls",
            "_model_module_version": "1.5.0",
            "_model_name": "DescriptionStyleModel",
            "_view_count": null,
            "_view_module": "@jupyter-widgets/base",
            "_view_module_version": "1.2.0",
            "_view_name": "StyleView",
            "description_width": ""
          }
        },
        "2a4de73130e74b02becaee928da1ddc7": {
          "model_module": "@jupyter-widgets/base",
          "model_name": "LayoutModel",
          "model_module_version": "1.2.0",
          "state": {
            "_model_module": "@jupyter-widgets/base",
            "_model_module_version": "1.2.0",
            "_model_name": "LayoutModel",
            "_view_count": null,
            "_view_module": "@jupyter-widgets/base",
            "_view_module_version": "1.2.0",
            "_view_name": "LayoutView",
            "align_content": null,
            "align_items": null,
            "align_self": null,
            "border": null,
            "bottom": null,
            "display": null,
            "flex": null,
            "flex_flow": null,
            "grid_area": null,
            "grid_auto_columns": null,
            "grid_auto_flow": null,
            "grid_auto_rows": null,
            "grid_column": null,
            "grid_gap": null,
            "grid_row": null,
            "grid_template_areas": null,
            "grid_template_columns": null,
            "grid_template_rows": null,
            "height": null,
            "justify_content": null,
            "justify_items": null,
            "left": null,
            "margin": null,
            "max_height": null,
            "max_width": null,
            "min_height": null,
            "min_width": null,
            "object_fit": null,
            "object_position": null,
            "order": null,
            "overflow": null,
            "overflow_x": null,
            "overflow_y": null,
            "padding": null,
            "right": null,
            "top": null,
            "visibility": null,
            "width": "20px"
          }
        },
        "6872280a0ef54227b29195cc380c1476": {
          "model_module": "@jupyter-widgets/controls",
          "model_name": "ProgressStyleModel",
          "model_module_version": "1.5.0",
          "state": {
            "_model_module": "@jupyter-widgets/controls",
            "_model_module_version": "1.5.0",
            "_model_name": "ProgressStyleModel",
            "_view_count": null,
            "_view_module": "@jupyter-widgets/base",
            "_view_module_version": "1.2.0",
            "_view_name": "StyleView",
            "bar_color": null,
            "description_width": ""
          }
        },
        "14872411aa7849908d74e59f2596cca0": {
          "model_module": "@jupyter-widgets/base",
          "model_name": "LayoutModel",
          "model_module_version": "1.2.0",
          "state": {
            "_model_module": "@jupyter-widgets/base",
            "_model_module_version": "1.2.0",
            "_model_name": "LayoutModel",
            "_view_count": null,
            "_view_module": "@jupyter-widgets/base",
            "_view_module_version": "1.2.0",
            "_view_name": "LayoutView",
            "align_content": null,
            "align_items": null,
            "align_self": null,
            "border": null,
            "bottom": null,
            "display": null,
            "flex": null,
            "flex_flow": null,
            "grid_area": null,
            "grid_auto_columns": null,
            "grid_auto_flow": null,
            "grid_auto_rows": null,
            "grid_column": null,
            "grid_gap": null,
            "grid_row": null,
            "grid_template_areas": null,
            "grid_template_columns": null,
            "grid_template_rows": null,
            "height": null,
            "justify_content": null,
            "justify_items": null,
            "left": null,
            "margin": null,
            "max_height": null,
            "max_width": null,
            "min_height": null,
            "min_width": null,
            "object_fit": null,
            "object_position": null,
            "order": null,
            "overflow": null,
            "overflow_x": null,
            "overflow_y": null,
            "padding": null,
            "right": null,
            "top": null,
            "visibility": null,
            "width": null
          }
        },
        "19a8ee0880c34682864671ca88579d51": {
          "model_module": "@jupyter-widgets/controls",
          "model_name": "DescriptionStyleModel",
          "model_module_version": "1.5.0",
          "state": {
            "_model_module": "@jupyter-widgets/controls",
            "_model_module_version": "1.5.0",
            "_model_name": "DescriptionStyleModel",
            "_view_count": null,
            "_view_module": "@jupyter-widgets/base",
            "_view_module_version": "1.2.0",
            "_view_name": "StyleView",
            "description_width": ""
          }
        },
        "420bcc3f148b4a499a9203cc52fb2b18": {
          "model_module": "@jupyter-widgets/controls",
          "model_name": "HBoxModel",
          "model_module_version": "1.5.0",
          "state": {
            "_dom_classes": [],
            "_model_module": "@jupyter-widgets/controls",
            "_model_module_version": "1.5.0",
            "_model_name": "HBoxModel",
            "_view_count": null,
            "_view_module": "@jupyter-widgets/controls",
            "_view_module_version": "1.5.0",
            "_view_name": "HBoxView",
            "box_style": "",
            "children": [
              "IPY_MODEL_eaf6c3165edd44dba9340757bb51026d",
              "IPY_MODEL_e4f82bfd7c7e4991bf9e9485b61100d4",
              "IPY_MODEL_3407da642b3643e2b40aab7208f5e6e4"
            ],
            "layout": "IPY_MODEL_6f07ff2f86984bfaab6845f9636a0bd6"
          }
        },
        "eaf6c3165edd44dba9340757bb51026d": {
          "model_module": "@jupyter-widgets/controls",
          "model_name": "HTMLModel",
          "model_module_version": "1.5.0",
          "state": {
            "_dom_classes": [],
            "_model_module": "@jupyter-widgets/controls",
            "_model_module_version": "1.5.0",
            "_model_name": "HTMLModel",
            "_view_count": null,
            "_view_module": "@jupyter-widgets/controls",
            "_view_module_version": "1.5.0",
            "_view_name": "HTMLView",
            "description": "",
            "description_tooltip": null,
            "layout": "IPY_MODEL_1f338654295b450c98e004d7eaa05d49",
            "placeholder": "​",
            "style": "IPY_MODEL_2ecd236c67f446c0b84ccde023cbd141",
            "value": "Generating test split: "
          }
        },
        "e4f82bfd7c7e4991bf9e9485b61100d4": {
          "model_module": "@jupyter-widgets/controls",
          "model_name": "FloatProgressModel",
          "model_module_version": "1.5.0",
          "state": {
            "_dom_classes": [],
            "_model_module": "@jupyter-widgets/controls",
            "_model_module_version": "1.5.0",
            "_model_name": "FloatProgressModel",
            "_view_count": null,
            "_view_module": "@jupyter-widgets/controls",
            "_view_module_version": "1.5.0",
            "_view_name": "ProgressView",
            "bar_style": "success",
            "description": "",
            "description_tooltip": null,
            "layout": "IPY_MODEL_57938ed8975342f8ad31fdf7b48ad59f",
            "max": 1,
            "min": 0,
            "orientation": "horizontal",
            "style": "IPY_MODEL_f46eb44902ec4426b3cfd03601f18c49",
            "value": 1
          }
        },
        "3407da642b3643e2b40aab7208f5e6e4": {
          "model_module": "@jupyter-widgets/controls",
          "model_name": "HTMLModel",
          "model_module_version": "1.5.0",
          "state": {
            "_dom_classes": [],
            "_model_module": "@jupyter-widgets/controls",
            "_model_module_version": "1.5.0",
            "_model_name": "HTMLModel",
            "_view_count": null,
            "_view_module": "@jupyter-widgets/controls",
            "_view_module_version": "1.5.0",
            "_view_name": "HTMLView",
            "description": "",
            "description_tooltip": null,
            "layout": "IPY_MODEL_bd6ebc2d33f944f6a6ba23c3493618e8",
            "placeholder": "​",
            "style": "IPY_MODEL_1b09ca938189442fa6d2226f52952ad2",
            "value": " 93/0 [00:00&lt;00:00, 1883.60 examples/s]"
          }
        },
        "6f07ff2f86984bfaab6845f9636a0bd6": {
          "model_module": "@jupyter-widgets/base",
          "model_name": "LayoutModel",
          "model_module_version": "1.2.0",
          "state": {
            "_model_module": "@jupyter-widgets/base",
            "_model_module_version": "1.2.0",
            "_model_name": "LayoutModel",
            "_view_count": null,
            "_view_module": "@jupyter-widgets/base",
            "_view_module_version": "1.2.0",
            "_view_name": "LayoutView",
            "align_content": null,
            "align_items": null,
            "align_self": null,
            "border": null,
            "bottom": null,
            "display": null,
            "flex": null,
            "flex_flow": null,
            "grid_area": null,
            "grid_auto_columns": null,
            "grid_auto_flow": null,
            "grid_auto_rows": null,
            "grid_column": null,
            "grid_gap": null,
            "grid_row": null,
            "grid_template_areas": null,
            "grid_template_columns": null,
            "grid_template_rows": null,
            "height": null,
            "justify_content": null,
            "justify_items": null,
            "left": null,
            "margin": null,
            "max_height": null,
            "max_width": null,
            "min_height": null,
            "min_width": null,
            "object_fit": null,
            "object_position": null,
            "order": null,
            "overflow": null,
            "overflow_x": null,
            "overflow_y": null,
            "padding": null,
            "right": null,
            "top": null,
            "visibility": null,
            "width": null
          }
        },
        "1f338654295b450c98e004d7eaa05d49": {
          "model_module": "@jupyter-widgets/base",
          "model_name": "LayoutModel",
          "model_module_version": "1.2.0",
          "state": {
            "_model_module": "@jupyter-widgets/base",
            "_model_module_version": "1.2.0",
            "_model_name": "LayoutModel",
            "_view_count": null,
            "_view_module": "@jupyter-widgets/base",
            "_view_module_version": "1.2.0",
            "_view_name": "LayoutView",
            "align_content": null,
            "align_items": null,
            "align_self": null,
            "border": null,
            "bottom": null,
            "display": null,
            "flex": null,
            "flex_flow": null,
            "grid_area": null,
            "grid_auto_columns": null,
            "grid_auto_flow": null,
            "grid_auto_rows": null,
            "grid_column": null,
            "grid_gap": null,
            "grid_row": null,
            "grid_template_areas": null,
            "grid_template_columns": null,
            "grid_template_rows": null,
            "height": null,
            "justify_content": null,
            "justify_items": null,
            "left": null,
            "margin": null,
            "max_height": null,
            "max_width": null,
            "min_height": null,
            "min_width": null,
            "object_fit": null,
            "object_position": null,
            "order": null,
            "overflow": null,
            "overflow_x": null,
            "overflow_y": null,
            "padding": null,
            "right": null,
            "top": null,
            "visibility": null,
            "width": null
          }
        },
        "2ecd236c67f446c0b84ccde023cbd141": {
          "model_module": "@jupyter-widgets/controls",
          "model_name": "DescriptionStyleModel",
          "model_module_version": "1.5.0",
          "state": {
            "_model_module": "@jupyter-widgets/controls",
            "_model_module_version": "1.5.0",
            "_model_name": "DescriptionStyleModel",
            "_view_count": null,
            "_view_module": "@jupyter-widgets/base",
            "_view_module_version": "1.2.0",
            "_view_name": "StyleView",
            "description_width": ""
          }
        },
        "57938ed8975342f8ad31fdf7b48ad59f": {
          "model_module": "@jupyter-widgets/base",
          "model_name": "LayoutModel",
          "model_module_version": "1.2.0",
          "state": {
            "_model_module": "@jupyter-widgets/base",
            "_model_module_version": "1.2.0",
            "_model_name": "LayoutModel",
            "_view_count": null,
            "_view_module": "@jupyter-widgets/base",
            "_view_module_version": "1.2.0",
            "_view_name": "LayoutView",
            "align_content": null,
            "align_items": null,
            "align_self": null,
            "border": null,
            "bottom": null,
            "display": null,
            "flex": null,
            "flex_flow": null,
            "grid_area": null,
            "grid_auto_columns": null,
            "grid_auto_flow": null,
            "grid_auto_rows": null,
            "grid_column": null,
            "grid_gap": null,
            "grid_row": null,
            "grid_template_areas": null,
            "grid_template_columns": null,
            "grid_template_rows": null,
            "height": null,
            "justify_content": null,
            "justify_items": null,
            "left": null,
            "margin": null,
            "max_height": null,
            "max_width": null,
            "min_height": null,
            "min_width": null,
            "object_fit": null,
            "object_position": null,
            "order": null,
            "overflow": null,
            "overflow_x": null,
            "overflow_y": null,
            "padding": null,
            "right": null,
            "top": null,
            "visibility": null,
            "width": "20px"
          }
        },
        "f46eb44902ec4426b3cfd03601f18c49": {
          "model_module": "@jupyter-widgets/controls",
          "model_name": "ProgressStyleModel",
          "model_module_version": "1.5.0",
          "state": {
            "_model_module": "@jupyter-widgets/controls",
            "_model_module_version": "1.5.0",
            "_model_name": "ProgressStyleModel",
            "_view_count": null,
            "_view_module": "@jupyter-widgets/base",
            "_view_module_version": "1.2.0",
            "_view_name": "StyleView",
            "bar_color": null,
            "description_width": ""
          }
        },
        "bd6ebc2d33f944f6a6ba23c3493618e8": {
          "model_module": "@jupyter-widgets/base",
          "model_name": "LayoutModel",
          "model_module_version": "1.2.0",
          "state": {
            "_model_module": "@jupyter-widgets/base",
            "_model_module_version": "1.2.0",
            "_model_name": "LayoutModel",
            "_view_count": null,
            "_view_module": "@jupyter-widgets/base",
            "_view_module_version": "1.2.0",
            "_view_name": "LayoutView",
            "align_content": null,
            "align_items": null,
            "align_self": null,
            "border": null,
            "bottom": null,
            "display": null,
            "flex": null,
            "flex_flow": null,
            "grid_area": null,
            "grid_auto_columns": null,
            "grid_auto_flow": null,
            "grid_auto_rows": null,
            "grid_column": null,
            "grid_gap": null,
            "grid_row": null,
            "grid_template_areas": null,
            "grid_template_columns": null,
            "grid_template_rows": null,
            "height": null,
            "justify_content": null,
            "justify_items": null,
            "left": null,
            "margin": null,
            "max_height": null,
            "max_width": null,
            "min_height": null,
            "min_width": null,
            "object_fit": null,
            "object_position": null,
            "order": null,
            "overflow": null,
            "overflow_x": null,
            "overflow_y": null,
            "padding": null,
            "right": null,
            "top": null,
            "visibility": null,
            "width": null
          }
        },
        "1b09ca938189442fa6d2226f52952ad2": {
          "model_module": "@jupyter-widgets/controls",
          "model_name": "DescriptionStyleModel",
          "model_module_version": "1.5.0",
          "state": {
            "_model_module": "@jupyter-widgets/controls",
            "_model_module_version": "1.5.0",
            "_model_name": "DescriptionStyleModel",
            "_view_count": null,
            "_view_module": "@jupyter-widgets/base",
            "_view_module_version": "1.2.0",
            "_view_name": "StyleView",
            "description_width": ""
          }
        },
        "14279dd64f9043639e13661a7cfe9bc2": {
          "model_module": "@jupyter-widgets/controls",
          "model_name": "HBoxModel",
          "model_module_version": "1.5.0",
          "state": {
            "_dom_classes": [],
            "_model_module": "@jupyter-widgets/controls",
            "_model_module_version": "1.5.0",
            "_model_name": "HBoxModel",
            "_view_count": null,
            "_view_module": "@jupyter-widgets/controls",
            "_view_module_version": "1.5.0",
            "_view_name": "HBoxView",
            "box_style": "",
            "children": [
              "IPY_MODEL_7ff15b6f10cf45ad97fde137319ddb4e",
              "IPY_MODEL_ea38c5720b9744729358f5672b56c4e1",
              "IPY_MODEL_a5500586f96d44cfbc4ed77539ef6b16"
            ],
            "layout": "IPY_MODEL_c282cc1072904aa79f4cf7adc4300d5a"
          }
        },
        "7ff15b6f10cf45ad97fde137319ddb4e": {
          "model_module": "@jupyter-widgets/controls",
          "model_name": "HTMLModel",
          "model_module_version": "1.5.0",
          "state": {
            "_dom_classes": [],
            "_model_module": "@jupyter-widgets/controls",
            "_model_module_version": "1.5.0",
            "_model_name": "HTMLModel",
            "_view_count": null,
            "_view_module": "@jupyter-widgets/controls",
            "_view_module_version": "1.5.0",
            "_view_name": "HTMLView",
            "description": "",
            "description_tooltip": null,
            "layout": "IPY_MODEL_adb83579f3574355b4dbb06e5549319a",
            "placeholder": "​",
            "style": "IPY_MODEL_1ed94c641f634bf8b4e2524ebff4592f",
            "value": "Map: 100%"
          }
        },
        "ea38c5720b9744729358f5672b56c4e1": {
          "model_module": "@jupyter-widgets/controls",
          "model_name": "FloatProgressModel",
          "model_module_version": "1.5.0",
          "state": {
            "_dom_classes": [],
            "_model_module": "@jupyter-widgets/controls",
            "_model_module_version": "1.5.0",
            "_model_name": "FloatProgressModel",
            "_view_count": null,
            "_view_module": "@jupyter-widgets/controls",
            "_view_module_version": "1.5.0",
            "_view_name": "ProgressView",
            "bar_style": "success",
            "description": "",
            "description_tooltip": null,
            "layout": "IPY_MODEL_c8e4d3c1bbdb41ce9f6ff3577617a8be",
            "max": 9008,
            "min": 0,
            "orientation": "horizontal",
            "style": "IPY_MODEL_80f4adfef3e245b58cadd5ce269f167c",
            "value": 9008
          }
        },
        "a5500586f96d44cfbc4ed77539ef6b16": {
          "model_module": "@jupyter-widgets/controls",
          "model_name": "HTMLModel",
          "model_module_version": "1.5.0",
          "state": {
            "_dom_classes": [],
            "_model_module": "@jupyter-widgets/controls",
            "_model_module_version": "1.5.0",
            "_model_name": "HTMLModel",
            "_view_count": null,
            "_view_module": "@jupyter-widgets/controls",
            "_view_module_version": "1.5.0",
            "_view_name": "HTMLView",
            "description": "",
            "description_tooltip": null,
            "layout": "IPY_MODEL_854f41ae44aa4711bd9911b6b4adf4ea",
            "placeholder": "​",
            "style": "IPY_MODEL_308f80c4177748eb8efb756d0e668dee",
            "value": " 9008/9008 [00:28&lt;00:00, 286.41 examples/s]"
          }
        },
        "c282cc1072904aa79f4cf7adc4300d5a": {
          "model_module": "@jupyter-widgets/base",
          "model_name": "LayoutModel",
          "model_module_version": "1.2.0",
          "state": {
            "_model_module": "@jupyter-widgets/base",
            "_model_module_version": "1.2.0",
            "_model_name": "LayoutModel",
            "_view_count": null,
            "_view_module": "@jupyter-widgets/base",
            "_view_module_version": "1.2.0",
            "_view_name": "LayoutView",
            "align_content": null,
            "align_items": null,
            "align_self": null,
            "border": null,
            "bottom": null,
            "display": null,
            "flex": null,
            "flex_flow": null,
            "grid_area": null,
            "grid_auto_columns": null,
            "grid_auto_flow": null,
            "grid_auto_rows": null,
            "grid_column": null,
            "grid_gap": null,
            "grid_row": null,
            "grid_template_areas": null,
            "grid_template_columns": null,
            "grid_template_rows": null,
            "height": null,
            "justify_content": null,
            "justify_items": null,
            "left": null,
            "margin": null,
            "max_height": null,
            "max_width": null,
            "min_height": null,
            "min_width": null,
            "object_fit": null,
            "object_position": null,
            "order": null,
            "overflow": null,
            "overflow_x": null,
            "overflow_y": null,
            "padding": null,
            "right": null,
            "top": null,
            "visibility": null,
            "width": null
          }
        },
        "adb83579f3574355b4dbb06e5549319a": {
          "model_module": "@jupyter-widgets/base",
          "model_name": "LayoutModel",
          "model_module_version": "1.2.0",
          "state": {
            "_model_module": "@jupyter-widgets/base",
            "_model_module_version": "1.2.0",
            "_model_name": "LayoutModel",
            "_view_count": null,
            "_view_module": "@jupyter-widgets/base",
            "_view_module_version": "1.2.0",
            "_view_name": "LayoutView",
            "align_content": null,
            "align_items": null,
            "align_self": null,
            "border": null,
            "bottom": null,
            "display": null,
            "flex": null,
            "flex_flow": null,
            "grid_area": null,
            "grid_auto_columns": null,
            "grid_auto_flow": null,
            "grid_auto_rows": null,
            "grid_column": null,
            "grid_gap": null,
            "grid_row": null,
            "grid_template_areas": null,
            "grid_template_columns": null,
            "grid_template_rows": null,
            "height": null,
            "justify_content": null,
            "justify_items": null,
            "left": null,
            "margin": null,
            "max_height": null,
            "max_width": null,
            "min_height": null,
            "min_width": null,
            "object_fit": null,
            "object_position": null,
            "order": null,
            "overflow": null,
            "overflow_x": null,
            "overflow_y": null,
            "padding": null,
            "right": null,
            "top": null,
            "visibility": null,
            "width": null
          }
        },
        "1ed94c641f634bf8b4e2524ebff4592f": {
          "model_module": "@jupyter-widgets/controls",
          "model_name": "DescriptionStyleModel",
          "model_module_version": "1.5.0",
          "state": {
            "_model_module": "@jupyter-widgets/controls",
            "_model_module_version": "1.5.0",
            "_model_name": "DescriptionStyleModel",
            "_view_count": null,
            "_view_module": "@jupyter-widgets/base",
            "_view_module_version": "1.2.0",
            "_view_name": "StyleView",
            "description_width": ""
          }
        },
        "c8e4d3c1bbdb41ce9f6ff3577617a8be": {
          "model_module": "@jupyter-widgets/base",
          "model_name": "LayoutModel",
          "model_module_version": "1.2.0",
          "state": {
            "_model_module": "@jupyter-widgets/base",
            "_model_module_version": "1.2.0",
            "_model_name": "LayoutModel",
            "_view_count": null,
            "_view_module": "@jupyter-widgets/base",
            "_view_module_version": "1.2.0",
            "_view_name": "LayoutView",
            "align_content": null,
            "align_items": null,
            "align_self": null,
            "border": null,
            "bottom": null,
            "display": null,
            "flex": null,
            "flex_flow": null,
            "grid_area": null,
            "grid_auto_columns": null,
            "grid_auto_flow": null,
            "grid_auto_rows": null,
            "grid_column": null,
            "grid_gap": null,
            "grid_row": null,
            "grid_template_areas": null,
            "grid_template_columns": null,
            "grid_template_rows": null,
            "height": null,
            "justify_content": null,
            "justify_items": null,
            "left": null,
            "margin": null,
            "max_height": null,
            "max_width": null,
            "min_height": null,
            "min_width": null,
            "object_fit": null,
            "object_position": null,
            "order": null,
            "overflow": null,
            "overflow_x": null,
            "overflow_y": null,
            "padding": null,
            "right": null,
            "top": null,
            "visibility": null,
            "width": null
          }
        },
        "80f4adfef3e245b58cadd5ce269f167c": {
          "model_module": "@jupyter-widgets/controls",
          "model_name": "ProgressStyleModel",
          "model_module_version": "1.5.0",
          "state": {
            "_model_module": "@jupyter-widgets/controls",
            "_model_module_version": "1.5.0",
            "_model_name": "ProgressStyleModel",
            "_view_count": null,
            "_view_module": "@jupyter-widgets/base",
            "_view_module_version": "1.2.0",
            "_view_name": "StyleView",
            "bar_color": null,
            "description_width": ""
          }
        },
        "854f41ae44aa4711bd9911b6b4adf4ea": {
          "model_module": "@jupyter-widgets/base",
          "model_name": "LayoutModel",
          "model_module_version": "1.2.0",
          "state": {
            "_model_module": "@jupyter-widgets/base",
            "_model_module_version": "1.2.0",
            "_model_name": "LayoutModel",
            "_view_count": null,
            "_view_module": "@jupyter-widgets/base",
            "_view_module_version": "1.2.0",
            "_view_name": "LayoutView",
            "align_content": null,
            "align_items": null,
            "align_self": null,
            "border": null,
            "bottom": null,
            "display": null,
            "flex": null,
            "flex_flow": null,
            "grid_area": null,
            "grid_auto_columns": null,
            "grid_auto_flow": null,
            "grid_auto_rows": null,
            "grid_column": null,
            "grid_gap": null,
            "grid_row": null,
            "grid_template_areas": null,
            "grid_template_columns": null,
            "grid_template_rows": null,
            "height": null,
            "justify_content": null,
            "justify_items": null,
            "left": null,
            "margin": null,
            "max_height": null,
            "max_width": null,
            "min_height": null,
            "min_width": null,
            "object_fit": null,
            "object_position": null,
            "order": null,
            "overflow": null,
            "overflow_x": null,
            "overflow_y": null,
            "padding": null,
            "right": null,
            "top": null,
            "visibility": null,
            "width": null
          }
        },
        "308f80c4177748eb8efb756d0e668dee": {
          "model_module": "@jupyter-widgets/controls",
          "model_name": "DescriptionStyleModel",
          "model_module_version": "1.5.0",
          "state": {
            "_model_module": "@jupyter-widgets/controls",
            "_model_module_version": "1.5.0",
            "_model_name": "DescriptionStyleModel",
            "_view_count": null,
            "_view_module": "@jupyter-widgets/base",
            "_view_module_version": "1.2.0",
            "_view_name": "StyleView",
            "description_width": ""
          }
        },
        "59cc5cd4088d4dd0a499063c11ef0ac1": {
          "model_module": "@jupyter-widgets/controls",
          "model_name": "HBoxModel",
          "model_module_version": "1.5.0",
          "state": {
            "_dom_classes": [],
            "_model_module": "@jupyter-widgets/controls",
            "_model_module_version": "1.5.0",
            "_model_name": "HBoxModel",
            "_view_count": null,
            "_view_module": "@jupyter-widgets/controls",
            "_view_module_version": "1.5.0",
            "_view_name": "HBoxView",
            "box_style": "",
            "children": [
              "IPY_MODEL_ea77d3142a2e422aa081398ab07c0eca",
              "IPY_MODEL_9c4886e35799424a85d83670a06dcb8e",
              "IPY_MODEL_f891906c36634b5ebb5af23637e074fc"
            ],
            "layout": "IPY_MODEL_4e36c99650144efa96fed733cd38192f"
          }
        },
        "ea77d3142a2e422aa081398ab07c0eca": {
          "model_module": "@jupyter-widgets/controls",
          "model_name": "HTMLModel",
          "model_module_version": "1.5.0",
          "state": {
            "_dom_classes": [],
            "_model_module": "@jupyter-widgets/controls",
            "_model_module_version": "1.5.0",
            "_model_name": "HTMLModel",
            "_view_count": null,
            "_view_module": "@jupyter-widgets/controls",
            "_view_module_version": "1.5.0",
            "_view_name": "HTMLView",
            "description": "",
            "description_tooltip": null,
            "layout": "IPY_MODEL_a21f937f18454d8993237b44d0151fa2",
            "placeholder": "​",
            "style": "IPY_MODEL_c07ffab866554af6a195aa30c67a6b5a",
            "value": "Map: 100%"
          }
        },
        "9c4886e35799424a85d83670a06dcb8e": {
          "model_module": "@jupyter-widgets/controls",
          "model_name": "FloatProgressModel",
          "model_module_version": "1.5.0",
          "state": {
            "_dom_classes": [],
            "_model_module": "@jupyter-widgets/controls",
            "_model_module_version": "1.5.0",
            "_model_name": "FloatProgressModel",
            "_view_count": null,
            "_view_module": "@jupyter-widgets/controls",
            "_view_module_version": "1.5.0",
            "_view_name": "ProgressView",
            "bar_style": "success",
            "description": "",
            "description_tooltip": null,
            "layout": "IPY_MODEL_55754822bc0d4db1b041800f3a97516c",
            "max": 930,
            "min": 0,
            "orientation": "horizontal",
            "style": "IPY_MODEL_9c56ab523760404eb45a53f4de5e301a",
            "value": 930
          }
        },
        "f891906c36634b5ebb5af23637e074fc": {
          "model_module": "@jupyter-widgets/controls",
          "model_name": "HTMLModel",
          "model_module_version": "1.5.0",
          "state": {
            "_dom_classes": [],
            "_model_module": "@jupyter-widgets/controls",
            "_model_module_version": "1.5.0",
            "_model_name": "HTMLModel",
            "_view_count": null,
            "_view_module": "@jupyter-widgets/controls",
            "_view_module_version": "1.5.0",
            "_view_name": "HTMLView",
            "description": "",
            "description_tooltip": null,
            "layout": "IPY_MODEL_0a9384f91ff34d648130329e10b0e3fe",
            "placeholder": "​",
            "style": "IPY_MODEL_26d42f31542f461ba40994f4d181be1a",
            "value": " 930/930 [00:03&lt;00:00, 132.74 examples/s]"
          }
        },
        "4e36c99650144efa96fed733cd38192f": {
          "model_module": "@jupyter-widgets/base",
          "model_name": "LayoutModel",
          "model_module_version": "1.2.0",
          "state": {
            "_model_module": "@jupyter-widgets/base",
            "_model_module_version": "1.2.0",
            "_model_name": "LayoutModel",
            "_view_count": null,
            "_view_module": "@jupyter-widgets/base",
            "_view_module_version": "1.2.0",
            "_view_name": "LayoutView",
            "align_content": null,
            "align_items": null,
            "align_self": null,
            "border": null,
            "bottom": null,
            "display": null,
            "flex": null,
            "flex_flow": null,
            "grid_area": null,
            "grid_auto_columns": null,
            "grid_auto_flow": null,
            "grid_auto_rows": null,
            "grid_column": null,
            "grid_gap": null,
            "grid_row": null,
            "grid_template_areas": null,
            "grid_template_columns": null,
            "grid_template_rows": null,
            "height": null,
            "justify_content": null,
            "justify_items": null,
            "left": null,
            "margin": null,
            "max_height": null,
            "max_width": null,
            "min_height": null,
            "min_width": null,
            "object_fit": null,
            "object_position": null,
            "order": null,
            "overflow": null,
            "overflow_x": null,
            "overflow_y": null,
            "padding": null,
            "right": null,
            "top": null,
            "visibility": null,
            "width": null
          }
        },
        "a21f937f18454d8993237b44d0151fa2": {
          "model_module": "@jupyter-widgets/base",
          "model_name": "LayoutModel",
          "model_module_version": "1.2.0",
          "state": {
            "_model_module": "@jupyter-widgets/base",
            "_model_module_version": "1.2.0",
            "_model_name": "LayoutModel",
            "_view_count": null,
            "_view_module": "@jupyter-widgets/base",
            "_view_module_version": "1.2.0",
            "_view_name": "LayoutView",
            "align_content": null,
            "align_items": null,
            "align_self": null,
            "border": null,
            "bottom": null,
            "display": null,
            "flex": null,
            "flex_flow": null,
            "grid_area": null,
            "grid_auto_columns": null,
            "grid_auto_flow": null,
            "grid_auto_rows": null,
            "grid_column": null,
            "grid_gap": null,
            "grid_row": null,
            "grid_template_areas": null,
            "grid_template_columns": null,
            "grid_template_rows": null,
            "height": null,
            "justify_content": null,
            "justify_items": null,
            "left": null,
            "margin": null,
            "max_height": null,
            "max_width": null,
            "min_height": null,
            "min_width": null,
            "object_fit": null,
            "object_position": null,
            "order": null,
            "overflow": null,
            "overflow_x": null,
            "overflow_y": null,
            "padding": null,
            "right": null,
            "top": null,
            "visibility": null,
            "width": null
          }
        },
        "c07ffab866554af6a195aa30c67a6b5a": {
          "model_module": "@jupyter-widgets/controls",
          "model_name": "DescriptionStyleModel",
          "model_module_version": "1.5.0",
          "state": {
            "_model_module": "@jupyter-widgets/controls",
            "_model_module_version": "1.5.0",
            "_model_name": "DescriptionStyleModel",
            "_view_count": null,
            "_view_module": "@jupyter-widgets/base",
            "_view_module_version": "1.2.0",
            "_view_name": "StyleView",
            "description_width": ""
          }
        },
        "55754822bc0d4db1b041800f3a97516c": {
          "model_module": "@jupyter-widgets/base",
          "model_name": "LayoutModel",
          "model_module_version": "1.2.0",
          "state": {
            "_model_module": "@jupyter-widgets/base",
            "_model_module_version": "1.2.0",
            "_model_name": "LayoutModel",
            "_view_count": null,
            "_view_module": "@jupyter-widgets/base",
            "_view_module_version": "1.2.0",
            "_view_name": "LayoutView",
            "align_content": null,
            "align_items": null,
            "align_self": null,
            "border": null,
            "bottom": null,
            "display": null,
            "flex": null,
            "flex_flow": null,
            "grid_area": null,
            "grid_auto_columns": null,
            "grid_auto_flow": null,
            "grid_auto_rows": null,
            "grid_column": null,
            "grid_gap": null,
            "grid_row": null,
            "grid_template_areas": null,
            "grid_template_columns": null,
            "grid_template_rows": null,
            "height": null,
            "justify_content": null,
            "justify_items": null,
            "left": null,
            "margin": null,
            "max_height": null,
            "max_width": null,
            "min_height": null,
            "min_width": null,
            "object_fit": null,
            "object_position": null,
            "order": null,
            "overflow": null,
            "overflow_x": null,
            "overflow_y": null,
            "padding": null,
            "right": null,
            "top": null,
            "visibility": null,
            "width": null
          }
        },
        "9c56ab523760404eb45a53f4de5e301a": {
          "model_module": "@jupyter-widgets/controls",
          "model_name": "ProgressStyleModel",
          "model_module_version": "1.5.0",
          "state": {
            "_model_module": "@jupyter-widgets/controls",
            "_model_module_version": "1.5.0",
            "_model_name": "ProgressStyleModel",
            "_view_count": null,
            "_view_module": "@jupyter-widgets/base",
            "_view_module_version": "1.2.0",
            "_view_name": "StyleView",
            "bar_color": null,
            "description_width": ""
          }
        },
        "0a9384f91ff34d648130329e10b0e3fe": {
          "model_module": "@jupyter-widgets/base",
          "model_name": "LayoutModel",
          "model_module_version": "1.2.0",
          "state": {
            "_model_module": "@jupyter-widgets/base",
            "_model_module_version": "1.2.0",
            "_model_name": "LayoutModel",
            "_view_count": null,
            "_view_module": "@jupyter-widgets/base",
            "_view_module_version": "1.2.0",
            "_view_name": "LayoutView",
            "align_content": null,
            "align_items": null,
            "align_self": null,
            "border": null,
            "bottom": null,
            "display": null,
            "flex": null,
            "flex_flow": null,
            "grid_area": null,
            "grid_auto_columns": null,
            "grid_auto_flow": null,
            "grid_auto_rows": null,
            "grid_column": null,
            "grid_gap": null,
            "grid_row": null,
            "grid_template_areas": null,
            "grid_template_columns": null,
            "grid_template_rows": null,
            "height": null,
            "justify_content": null,
            "justify_items": null,
            "left": null,
            "margin": null,
            "max_height": null,
            "max_width": null,
            "min_height": null,
            "min_width": null,
            "object_fit": null,
            "object_position": null,
            "order": null,
            "overflow": null,
            "overflow_x": null,
            "overflow_y": null,
            "padding": null,
            "right": null,
            "top": null,
            "visibility": null,
            "width": null
          }
        },
        "26d42f31542f461ba40994f4d181be1a": {
          "model_module": "@jupyter-widgets/controls",
          "model_name": "DescriptionStyleModel",
          "model_module_version": "1.5.0",
          "state": {
            "_model_module": "@jupyter-widgets/controls",
            "_model_module_version": "1.5.0",
            "_model_name": "DescriptionStyleModel",
            "_view_count": null,
            "_view_module": "@jupyter-widgets/base",
            "_view_module_version": "1.2.0",
            "_view_name": "StyleView",
            "description_width": ""
          }
        }
      }
    }
  },
  "cells": [
    {
      "cell_type": "markdown",
      "source": [
        "## Import Libraries"
      ],
      "metadata": {
        "id": "dllMi-2GsFQK"
      }
    },
    {
      "cell_type": "code",
      "source": [
        "from datasets import load_dataset\n",
        "from datasets import Dataset, DatasetDict\n",
        "import torch\n",
        "import numpy as np\n",
        "import evaluate\n",
        "import evaluate\n",
        "from transformers import AutoModelForQuestionAnswering, AutoTokenizer, Trainer, TrainingArguments\n",
        "from evaluate import load\n"
      ],
      "metadata": {
        "id": "z0R2to_LIAsV",
        "collapsed": true
      },
      "execution_count": 4,
      "outputs": []
    },
    {
      "cell_type": "markdown",
      "source": [
        "## Install Dependencies"
      ],
      "metadata": {
        "id": "Y3iDmc6OsJqe"
      }
    },
    {
      "cell_type": "code",
      "source": [
        "!pip install transformers datasets evaluate torch"
      ],
      "metadata": {
        "colab": {
          "base_uri": "https://localhost:8080/"
        },
        "collapsed": true,
        "id": "mwlfbRUHKoE7",
        "outputId": "88a92907-c483-4c2a-986d-dbbe9ae70e8b"
      },
      "execution_count": 3,
      "outputs": [
        {
          "output_type": "stream",
          "name": "stdout",
          "text": [
            "Requirement already satisfied: transformers in /usr/local/lib/python3.12/dist-packages (4.55.2)\n",
            "Requirement already satisfied: datasets in /usr/local/lib/python3.12/dist-packages (4.0.0)\n",
            "Collecting evaluate\n",
            "  Downloading evaluate-0.4.5-py3-none-any.whl.metadata (9.5 kB)\n",
            "Requirement already satisfied: torch in /usr/local/lib/python3.12/dist-packages (2.8.0+cu126)\n",
            "Requirement already satisfied: filelock in /usr/local/lib/python3.12/dist-packages (from transformers) (3.19.1)\n",
            "Requirement already satisfied: huggingface-hub<1.0,>=0.34.0 in /usr/local/lib/python3.12/dist-packages (from transformers) (0.34.4)\n",
            "Requirement already satisfied: numpy>=1.17 in /usr/local/lib/python3.12/dist-packages (from transformers) (2.0.2)\n",
            "Requirement already satisfied: packaging>=20.0 in /usr/local/lib/python3.12/dist-packages (from transformers) (25.0)\n",
            "Requirement already satisfied: pyyaml>=5.1 in /usr/local/lib/python3.12/dist-packages (from transformers) (6.0.2)\n",
            "Requirement already satisfied: regex!=2019.12.17 in /usr/local/lib/python3.12/dist-packages (from transformers) (2024.11.6)\n",
            "Requirement already satisfied: requests in /usr/local/lib/python3.12/dist-packages (from transformers) (2.32.4)\n",
            "Requirement already satisfied: tokenizers<0.22,>=0.21 in /usr/local/lib/python3.12/dist-packages (from transformers) (0.21.4)\n",
            "Requirement already satisfied: safetensors>=0.4.3 in /usr/local/lib/python3.12/dist-packages (from transformers) (0.6.2)\n",
            "Requirement already satisfied: tqdm>=4.27 in /usr/local/lib/python3.12/dist-packages (from transformers) (4.67.1)\n",
            "Requirement already satisfied: pyarrow>=15.0.0 in /usr/local/lib/python3.12/dist-packages (from datasets) (18.1.0)\n",
            "Requirement already satisfied: dill<0.3.9,>=0.3.0 in /usr/local/lib/python3.12/dist-packages (from datasets) (0.3.8)\n",
            "Requirement already satisfied: pandas in /usr/local/lib/python3.12/dist-packages (from datasets) (2.2.2)\n",
            "Requirement already satisfied: xxhash in /usr/local/lib/python3.12/dist-packages (from datasets) (3.5.0)\n",
            "Requirement already satisfied: multiprocess<0.70.17 in /usr/local/lib/python3.12/dist-packages (from datasets) (0.70.16)\n",
            "Requirement already satisfied: fsspec<=2025.3.0,>=2023.1.0 in /usr/local/lib/python3.12/dist-packages (from fsspec[http]<=2025.3.0,>=2023.1.0->datasets) (2025.3.0)\n",
            "Requirement already satisfied: typing-extensions>=4.10.0 in /usr/local/lib/python3.12/dist-packages (from torch) (4.14.1)\n",
            "Requirement already satisfied: setuptools in /usr/local/lib/python3.12/dist-packages (from torch) (75.2.0)\n",
            "Requirement already satisfied: sympy>=1.13.3 in /usr/local/lib/python3.12/dist-packages (from torch) (1.13.3)\n",
            "Requirement already satisfied: networkx in /usr/local/lib/python3.12/dist-packages (from torch) (3.5)\n",
            "Requirement already satisfied: jinja2 in /usr/local/lib/python3.12/dist-packages (from torch) (3.1.6)\n",
            "Requirement already satisfied: nvidia-cuda-nvrtc-cu12==12.6.77 in /usr/local/lib/python3.12/dist-packages (from torch) (12.6.77)\n",
            "Requirement already satisfied: nvidia-cuda-runtime-cu12==12.6.77 in /usr/local/lib/python3.12/dist-packages (from torch) (12.6.77)\n",
            "Requirement already satisfied: nvidia-cuda-cupti-cu12==12.6.80 in /usr/local/lib/python3.12/dist-packages (from torch) (12.6.80)\n",
            "Requirement already satisfied: nvidia-cudnn-cu12==9.10.2.21 in /usr/local/lib/python3.12/dist-packages (from torch) (9.10.2.21)\n",
            "Requirement already satisfied: nvidia-cublas-cu12==12.6.4.1 in /usr/local/lib/python3.12/dist-packages (from torch) (12.6.4.1)\n",
            "Requirement already satisfied: nvidia-cufft-cu12==11.3.0.4 in /usr/local/lib/python3.12/dist-packages (from torch) (11.3.0.4)\n",
            "Requirement already satisfied: nvidia-curand-cu12==10.3.7.77 in /usr/local/lib/python3.12/dist-packages (from torch) (10.3.7.77)\n",
            "Requirement already satisfied: nvidia-cusolver-cu12==11.7.1.2 in /usr/local/lib/python3.12/dist-packages (from torch) (11.7.1.2)\n",
            "Requirement already satisfied: nvidia-cusparse-cu12==12.5.4.2 in /usr/local/lib/python3.12/dist-packages (from torch) (12.5.4.2)\n",
            "Requirement already satisfied: nvidia-cusparselt-cu12==0.7.1 in /usr/local/lib/python3.12/dist-packages (from torch) (0.7.1)\n",
            "Requirement already satisfied: nvidia-nccl-cu12==2.27.3 in /usr/local/lib/python3.12/dist-packages (from torch) (2.27.3)\n",
            "Requirement already satisfied: nvidia-nvtx-cu12==12.6.77 in /usr/local/lib/python3.12/dist-packages (from torch) (12.6.77)\n",
            "Requirement already satisfied: nvidia-nvjitlink-cu12==12.6.85 in /usr/local/lib/python3.12/dist-packages (from torch) (12.6.85)\n",
            "Requirement already satisfied: nvidia-cufile-cu12==1.11.1.6 in /usr/local/lib/python3.12/dist-packages (from torch) (1.11.1.6)\n",
            "Requirement already satisfied: triton==3.4.0 in /usr/local/lib/python3.12/dist-packages (from torch) (3.4.0)\n",
            "Requirement already satisfied: aiohttp!=4.0.0a0,!=4.0.0a1 in /usr/local/lib/python3.12/dist-packages (from fsspec[http]<=2025.3.0,>=2023.1.0->datasets) (3.12.15)\n",
            "Requirement already satisfied: hf-xet<2.0.0,>=1.1.3 in /usr/local/lib/python3.12/dist-packages (from huggingface-hub<1.0,>=0.34.0->transformers) (1.1.7)\n",
            "Requirement already satisfied: charset_normalizer<4,>=2 in /usr/local/lib/python3.12/dist-packages (from requests->transformers) (3.4.3)\n",
            "Requirement already satisfied: idna<4,>=2.5 in /usr/local/lib/python3.12/dist-packages (from requests->transformers) (3.10)\n",
            "Requirement already satisfied: urllib3<3,>=1.21.1 in /usr/local/lib/python3.12/dist-packages (from requests->transformers) (2.5.0)\n",
            "Requirement already satisfied: certifi>=2017.4.17 in /usr/local/lib/python3.12/dist-packages (from requests->transformers) (2025.8.3)\n",
            "Requirement already satisfied: mpmath<1.4,>=1.1.0 in /usr/local/lib/python3.12/dist-packages (from sympy>=1.13.3->torch) (1.3.0)\n",
            "Requirement already satisfied: MarkupSafe>=2.0 in /usr/local/lib/python3.12/dist-packages (from jinja2->torch) (3.0.2)\n",
            "Requirement already satisfied: python-dateutil>=2.8.2 in /usr/local/lib/python3.12/dist-packages (from pandas->datasets) (2.9.0.post0)\n",
            "Requirement already satisfied: pytz>=2020.1 in /usr/local/lib/python3.12/dist-packages (from pandas->datasets) (2025.2)\n",
            "Requirement already satisfied: tzdata>=2022.7 in /usr/local/lib/python3.12/dist-packages (from pandas->datasets) (2025.2)\n",
            "Requirement already satisfied: aiohappyeyeballs>=2.5.0 in /usr/local/lib/python3.12/dist-packages (from aiohttp!=4.0.0a0,!=4.0.0a1->fsspec[http]<=2025.3.0,>=2023.1.0->datasets) (2.6.1)\n",
            "Requirement already satisfied: aiosignal>=1.4.0 in /usr/local/lib/python3.12/dist-packages (from aiohttp!=4.0.0a0,!=4.0.0a1->fsspec[http]<=2025.3.0,>=2023.1.0->datasets) (1.4.0)\n",
            "Requirement already satisfied: attrs>=17.3.0 in /usr/local/lib/python3.12/dist-packages (from aiohttp!=4.0.0a0,!=4.0.0a1->fsspec[http]<=2025.3.0,>=2023.1.0->datasets) (25.3.0)\n",
            "Requirement already satisfied: frozenlist>=1.1.1 in /usr/local/lib/python3.12/dist-packages (from aiohttp!=4.0.0a0,!=4.0.0a1->fsspec[http]<=2025.3.0,>=2023.1.0->datasets) (1.7.0)\n",
            "Requirement already satisfied: multidict<7.0,>=4.5 in /usr/local/lib/python3.12/dist-packages (from aiohttp!=4.0.0a0,!=4.0.0a1->fsspec[http]<=2025.3.0,>=2023.1.0->datasets) (6.6.4)\n",
            "Requirement already satisfied: propcache>=0.2.0 in /usr/local/lib/python3.12/dist-packages (from aiohttp!=4.0.0a0,!=4.0.0a1->fsspec[http]<=2025.3.0,>=2023.1.0->datasets) (0.3.2)\n",
            "Requirement already satisfied: yarl<2.0,>=1.17.0 in /usr/local/lib/python3.12/dist-packages (from aiohttp!=4.0.0a0,!=4.0.0a1->fsspec[http]<=2025.3.0,>=2023.1.0->datasets) (1.20.1)\n",
            "Requirement already satisfied: six>=1.5 in /usr/local/lib/python3.12/dist-packages (from python-dateutil>=2.8.2->pandas->datasets) (1.17.0)\n",
            "Downloading evaluate-0.4.5-py3-none-any.whl (84 kB)\n",
            "\u001b[2K   \u001b[90m━━━━━━━━━━━━━━━━━━━━━━━━━━━━━━━━━━━━━━━━\u001b[0m \u001b[32m84.1/84.1 kB\u001b[0m \u001b[31m3.9 MB/s\u001b[0m eta \u001b[36m0:00:00\u001b[0m\n",
            "\u001b[?25hInstalling collected packages: evaluate\n",
            "Successfully installed evaluate-0.4.5\n"
          ]
        }
      ]
    },
    {
      "cell_type": "markdown",
      "source": [
        "## Load Dataset"
      ],
      "metadata": {
        "id": "uOQACQ2JsM9l"
      }
    },
    {
      "cell_type": "code",
      "execution_count": 10,
      "metadata": {
        "colab": {
          "base_uri": "https://localhost:8080/",
          "height": 298,
          "referenced_widgets": [
            "e17825e43e924729b90a87bced6d92a3",
            "587325c0ba2749979d1a230b0b766eb8",
            "1d5eeffeeab44c5f9577c6a9c1174fad",
            "4713d73a01b4496dbdea00cc62c1888d",
            "137beb591534450a8910382709c2ce49",
            "36dcab072c0a48f4b166e70136ffccb2",
            "87414d251e844ec981d3126aaf162c83",
            "2a4de73130e74b02becaee928da1ddc7",
            "6872280a0ef54227b29195cc380c1476",
            "14872411aa7849908d74e59f2596cca0",
            "19a8ee0880c34682864671ca88579d51",
            "420bcc3f148b4a499a9203cc52fb2b18",
            "eaf6c3165edd44dba9340757bb51026d",
            "e4f82bfd7c7e4991bf9e9485b61100d4",
            "3407da642b3643e2b40aab7208f5e6e4",
            "6f07ff2f86984bfaab6845f9636a0bd6",
            "1f338654295b450c98e004d7eaa05d49",
            "2ecd236c67f446c0b84ccde023cbd141",
            "57938ed8975342f8ad31fdf7b48ad59f",
            "f46eb44902ec4426b3cfd03601f18c49",
            "bd6ebc2d33f944f6a6ba23c3493618e8",
            "1b09ca938189442fa6d2226f52952ad2"
          ]
        },
        "id": "bMLfALsLGjE3",
        "outputId": "0dce02c4-e4b6-4731-96ee-405b4cca2d67"
      },
      "outputs": [
        {
          "output_type": "display_data",
          "data": {
            "text/plain": [
              "Generating train split: 0 examples [00:00, ? examples/s]"
            ],
            "application/vnd.jupyter.widget-view+json": {
              "version_major": 2,
              "version_minor": 0,
              "model_id": "e17825e43e924729b90a87bced6d92a3"
            }
          },
          "metadata": {}
        },
        {
          "output_type": "display_data",
          "data": {
            "text/plain": [
              "Generating test split: 0 examples [00:00, ? examples/s]"
            ],
            "application/vnd.jupyter.widget-view+json": {
              "version_major": 2,
              "version_minor": 0,
              "model_id": "420bcc3f148b4a499a9203cc52fb2b18"
            }
          },
          "metadata": {}
        },
        {
          "output_type": "stream",
          "name": "stdout",
          "text": [
            "DatasetDict({\n",
            "    train: Dataset({\n",
            "        features: ['data'],\n",
            "        num_rows: 901\n",
            "    })\n",
            "    test: Dataset({\n",
            "        features: ['data'],\n",
            "        num_rows: 93\n",
            "    })\n",
            "})\n",
            "{'data': {'paragraphs': [{'context': 'شرکت فولاد مبارکۀ اصفهان، بزرگ\\u200cترین واحد صنعتی خصوصی در ایران و بزرگ\\u200cترین مجتمع تولید فولاد در کشور ایران است، که در شرق شهر مبارکه قرار دارد. فولاد مبارکه هم\\u200cاکنون محرک بسیاری از صنایع بالادستی و پایین\\u200cدستی است. فولاد مبارکه در ۱۱ دوره جایزۀ ملی تعالی سازمانی و ۶ دوره جایزۀ شرکت دانشی در کشور رتبۀ نخست را بدست آورده\\u200cاست و همچنین این شرکت در سال ۱۳۹۱ برای نخستین\\u200cبار به عنوان تنها شرکت ایرانی با کسب امتیاز ۶۵۴ تندیس زرین جایزۀ ملی تعالی سازمانی را از آن خود کند. شرکت فولاد مبارکۀ اصفهان در ۲۳ دی ماه ۱۳۷۱ احداث شد و اکنون بزرگ\\u200cترین واحدهای صنعتی و بزرگترین مجتمع تولید فولاد در ایران است. این شرکت در زمینی به مساحت ۳۵ کیلومتر مربع در نزدیکی شهر مبارکه و در ۷۵ کیلومتری جنوب غربی شهر اصفهان واقع شده\\u200cاست. مصرف آب این کارخانه در کمترین میزان خود، ۱٫۵٪ از دبی زاینده\\u200cرود برابر سالانه ۲۳ میلیون متر مکعب در سال است و خود یکی از عوامل کم\\u200cآبی زاینده\\u200cرود شناخته می\\u200cشود.', 'qas': [{'answers': [{'answer_end': 131, 'answer_start': 114, 'text': 'در شرق شهر مبارکه'}], 'id': 1, 'is_impossible': False, 'question': 'شرکت فولاد مبارکه در کجا واقع شده است'}, {'answers': [{'answer_end': 264, 'answer_start': 263, 'text': '۶'}], 'id': 2, 'is_impossible': False, 'question': 'فولاد مبارکه چند بار برنده جایزه شرکت دانشی را کسب کرده است؟'}, {'answers': [{'answer_end': 447, 'answer_start': 413, 'text': 'تندیس زرین جایزۀ ملی تعالی سازمانی'}], 'id': 3, 'is_impossible': False, 'question': 'شرکت فولاد مبارکه در سال ۱۳۹۱ چه جایزه ای برد؟'}, {'answers': [{'answer_end': 17, 'answer_start': 0, 'text': 'شرکت فولاد مبارکۀ'}], 'id': 4, 'is_impossible': False, 'question': 'بزرگ ترین مجموعه تولید فولاد ایران چیست؟'}, {'answers': [{'answer_end': 508, 'answer_start': 504, 'text': '۱۳۷۱'}], 'id': 5, 'is_impossible': False, 'question': 'فولاد مبارکه در چه سالی احداث شد؟'}, {'answers': [{'answer_end': 815, 'answer_start': 728, 'text': ' در کمترین میزان خود، ۱٫۵٪ از دبی زاینده\\u200cرود برابر سالانه ۲۳ میلیون متر مکعب در سال است'}], 'id': 6, 'is_impossible': False, 'question': 'مصرف آب فولاد مبارکه چقدر است؟'}, {'answers': [{'answer_end': 24, 'answer_start': 0, 'text': 'شرکت فولاد مبارکۀ اصفهان'}], 'id': 7, 'is_impossible': False, 'question': ' بزرگ\\u200cترین واحد صنعتی خصوصی در ایران چیست؟'}, {'answers': [], 'id': 8, 'is_impossible': True, 'question': 'شرکت فولاد مبارکۀ اصفهان چند سال سابقه دارد؟'}, {'answers': [], 'id': 9, 'is_impossible': True, 'question': 'شرکت فولاد مبارکۀ اصفهان در چه سالی برنده جایزه کار آفرینی شد؟'}, {'answers': [], 'id': 10, 'is_impossible': True, 'question': 'مساحت فولاد مبارکۀ اصفهان '}]}], 'title': 'شرکت فولاد مبارکه اصفهان'}}\n"
          ]
        }
      ],
      "source": [
        "train_file = \"/content/pqa_train.json\"\n",
        "test_file = \"/content/pqa_test.json\"\n",
        "\n",
        "dataset = load_dataset(\"json\", data_files={\"train\": train_file, \"test\": test_file})\n",
        "\n",
        "print(dataset)\n",
        "print(dataset[\"train\"][0])\n"
      ]
    },
    {
      "cell_type": "markdown",
      "source": [
        "## Dataset format"
      ],
      "metadata": {
        "id": "Ir2zLe_BsWtJ"
      }
    },
    {
      "cell_type": "code",
      "source": [
        "def extract_examples(dataset_split):\n",
        "    contexts, questions, answers, ids, titles = [], [], [], [], []\n",
        "\n",
        "    for item in dataset_split[\"data\"]:\n",
        "        title = item.get(\"title\", \"\")\n",
        "        for para in item[\"paragraphs\"]:\n",
        "            context = para[\"context\"]\n",
        "            for qa in para[\"qas\"]:\n",
        "                q_id = qa[\"id\"]\n",
        "                question = qa[\"question\"]\n",
        "                ans = qa.get(\"answers\", [])\n",
        "                if len(ans) > 0:\n",
        "                    answer_texts = [a[\"text\"] for a in ans]\n",
        "                    answer_starts = [a[\"answer_start\"] for a in ans]\n",
        "                else:\n",
        "                    answer_texts, answer_starts = [], []\n",
        "\n",
        "                contexts.append(context)\n",
        "                questions.append(question)\n",
        "                answers.append({\"text\": answer_texts, \"answer_start\": answer_starts})\n",
        "                ids.append(q_id)\n",
        "                titles.append(title)\n",
        "\n",
        "    return Dataset.from_dict({\n",
        "        \"id\": ids,\n",
        "        \"title\": titles,\n",
        "        \"context\": contexts,\n",
        "        \"question\": questions,\n",
        "        \"answers\": answers\n",
        "    })\n",
        "\n",
        "train_dataset = extract_examples(dataset[\"train\"])\n",
        "test_dataset = extract_examples(dataset[\"test\"])\n",
        "\n",
        "pquad = DatasetDict({\n",
        "    \"train\": train_dataset,\n",
        "    \"test\": test_dataset\n",
        "})\n",
        "\n",
        "print(pquad)\n",
        "print(pquad[\"train\"][0])\n"
      ],
      "metadata": {
        "colab": {
          "base_uri": "https://localhost:8080/"
        },
        "id": "vS5hfYN7H8jv",
        "outputId": "ffb64df4-46cd-4c1f-e564-416ea07cae90"
      },
      "execution_count": 11,
      "outputs": [
        {
          "output_type": "stream",
          "name": "stdout",
          "text": [
            "DatasetDict({\n",
            "    train: Dataset({\n",
            "        features: ['id', 'title', 'context', 'question', 'answers'],\n",
            "        num_rows: 9008\n",
            "    })\n",
            "    test: Dataset({\n",
            "        features: ['id', 'title', 'context', 'question', 'answers'],\n",
            "        num_rows: 930\n",
            "    })\n",
            "})\n",
            "{'id': 1, 'title': 'شرکت فولاد مبارکه اصفهان', 'context': 'شرکت فولاد مبارکۀ اصفهان، بزرگ\\u200cترین واحد صنعتی خصوصی در ایران و بزرگ\\u200cترین مجتمع تولید فولاد در کشور ایران است، که در شرق شهر مبارکه قرار دارد. فولاد مبارکه هم\\u200cاکنون محرک بسیاری از صنایع بالادستی و پایین\\u200cدستی است. فولاد مبارکه در ۱۱ دوره جایزۀ ملی تعالی سازمانی و ۶ دوره جایزۀ شرکت دانشی در کشور رتبۀ نخست را بدست آورده\\u200cاست و همچنین این شرکت در سال ۱۳۹۱ برای نخستین\\u200cبار به عنوان تنها شرکت ایرانی با کسب امتیاز ۶۵۴ تندیس زرین جایزۀ ملی تعالی سازمانی را از آن خود کند. شرکت فولاد مبارکۀ اصفهان در ۲۳ دی ماه ۱۳۷۱ احداث شد و اکنون بزرگ\\u200cترین واحدهای صنعتی و بزرگترین مجتمع تولید فولاد در ایران است. این شرکت در زمینی به مساحت ۳۵ کیلومتر مربع در نزدیکی شهر مبارکه و در ۷۵ کیلومتری جنوب غربی شهر اصفهان واقع شده\\u200cاست. مصرف آب این کارخانه در کمترین میزان خود، ۱٫۵٪ از دبی زاینده\\u200cرود برابر سالانه ۲۳ میلیون متر مکعب در سال است و خود یکی از عوامل کم\\u200cآبی زاینده\\u200cرود شناخته می\\u200cشود.', 'question': 'شرکت فولاد مبارکه در کجا واقع شده است', 'answers': {'answer_start': [114], 'text': ['در شرق شهر مبارکه']}}\n"
          ]
        }
      ]
    },
    {
      "cell_type": "code",
      "source": [
        "import transformers\n",
        "print(transformers.__version__)"
      ],
      "metadata": {
        "colab": {
          "base_uri": "https://localhost:8080/"
        },
        "id": "C5CKpSJsceYF",
        "outputId": "a20317f9-5362-45a0-a1d3-16a49a4a2232"
      },
      "execution_count": 12,
      "outputs": [
        {
          "output_type": "stream",
          "name": "stdout",
          "text": [
            "4.55.2\n"
          ]
        }
      ]
    },
    {
      "cell_type": "markdown",
      "source": [
        "## Load Model, Tokenizer, and Metrics"
      ],
      "metadata": {
        "id": "bPYhf5Uys0uA"
      }
    },
    {
      "cell_type": "code",
      "source": [
        "\n",
        "# Load model and tokenizer\n",
        "model = AutoModelForQuestionAnswering.from_pretrained(\"HooshvareLab/bert-base-parsbert-uncased\")\n",
        "tokenizer = AutoTokenizer.from_pretrained(\"HooshvareLab/bert-base-parsbert-uncased\")\n",
        "\n",
        "# Load SQuAD metric\n",
        "metric = load(\"squad\")"
      ],
      "metadata": {
        "colab": {
          "base_uri": "https://localhost:8080/"
        },
        "id": "nThs1avYa9lm",
        "outputId": "1d98d56c-fbd4-4cff-8af6-36ebd91e1947"
      },
      "execution_count": 13,
      "outputs": [
        {
          "output_type": "stream",
          "name": "stderr",
          "text": [
            "Some weights of BertForQuestionAnswering were not initialized from the model checkpoint at HooshvareLab/bert-base-parsbert-uncased and are newly initialized: ['qa_outputs.bias', 'qa_outputs.weight']\n",
            "You should probably TRAIN this model on a down-stream task to be able to use it for predictions and inference.\n"
          ]
        }
      ]
    },
    {
      "cell_type": "markdown",
      "source": [
        "## Preprocess Dataset for Training"
      ],
      "metadata": {
        "id": "FLCGtI6Ms7MU"
      }
    },
    {
      "cell_type": "code",
      "source": [
        "\n",
        "train_file = \"/content/pqa_train.json\"\n",
        "test_file = \"/content/pqa_test.json\"\n",
        "\n",
        "dataset = load_dataset(\"json\", data_files={\"train\": train_file, \"test\": test_file})\n",
        "\n",
        "# Inspect dataset\n",
        "print(\"Train dataset features:\", dataset[\"train\"].features)\n",
        "print(\"Test dataset features:\", dataset[\"test\"].features)\n",
        "print(\"Sample train example:\", dataset[\"train\"][0])\n",
        "print(\"Sample test example:\", dataset[\"test\"][0])"
      ],
      "metadata": {
        "colab": {
          "base_uri": "https://localhost:8080/"
        },
        "id": "vHVPVuRjl-48",
        "outputId": "193a0b01-6e42-4277-f085-fe0b1795eaf0"
      },
      "execution_count": 14,
      "outputs": [
        {
          "output_type": "stream",
          "name": "stdout",
          "text": [
            "Train dataset features: {'data': {'paragraphs': List({'context': Value('string'), 'qas': List({'answers': List({'answer_end': Value('int64'), 'answer_start': Value('int64'), 'text': Value('string')}), 'id': Value('int64'), 'is_impossible': Value('bool'), 'question': Value('string')})}), 'title': Value('string')}}\n",
            "Test dataset features: {'data': {'paragraphs': List({'context': Value('string'), 'qas': List({'answers': List({'answer_end': Value('int64'), 'answer_start': Value('int64'), 'text': Value('string')}), 'id': Value('int64'), 'is_impossible': Value('bool'), 'question': Value('string')})}), 'title': Value('string')}}\n",
            "Sample train example: {'data': {'paragraphs': [{'context': 'شرکت فولاد مبارکۀ اصفهان، بزرگ\\u200cترین واحد صنعتی خصوصی در ایران و بزرگ\\u200cترین مجتمع تولید فولاد در کشور ایران است، که در شرق شهر مبارکه قرار دارد. فولاد مبارکه هم\\u200cاکنون محرک بسیاری از صنایع بالادستی و پایین\\u200cدستی است. فولاد مبارکه در ۱۱ دوره جایزۀ ملی تعالی سازمانی و ۶ دوره جایزۀ شرکت دانشی در کشور رتبۀ نخست را بدست آورده\\u200cاست و همچنین این شرکت در سال ۱۳۹۱ برای نخستین\\u200cبار به عنوان تنها شرکت ایرانی با کسب امتیاز ۶۵۴ تندیس زرین جایزۀ ملی تعالی سازمانی را از آن خود کند. شرکت فولاد مبارکۀ اصفهان در ۲۳ دی ماه ۱۳۷۱ احداث شد و اکنون بزرگ\\u200cترین واحدهای صنعتی و بزرگترین مجتمع تولید فولاد در ایران است. این شرکت در زمینی به مساحت ۳۵ کیلومتر مربع در نزدیکی شهر مبارکه و در ۷۵ کیلومتری جنوب غربی شهر اصفهان واقع شده\\u200cاست. مصرف آب این کارخانه در کمترین میزان خود، ۱٫۵٪ از دبی زاینده\\u200cرود برابر سالانه ۲۳ میلیون متر مکعب در سال است و خود یکی از عوامل کم\\u200cآبی زاینده\\u200cرود شناخته می\\u200cشود.', 'qas': [{'answers': [{'answer_end': 131, 'answer_start': 114, 'text': 'در شرق شهر مبارکه'}], 'id': 1, 'is_impossible': False, 'question': 'شرکت فولاد مبارکه در کجا واقع شده است'}, {'answers': [{'answer_end': 264, 'answer_start': 263, 'text': '۶'}], 'id': 2, 'is_impossible': False, 'question': 'فولاد مبارکه چند بار برنده جایزه شرکت دانشی را کسب کرده است؟'}, {'answers': [{'answer_end': 447, 'answer_start': 413, 'text': 'تندیس زرین جایزۀ ملی تعالی سازمانی'}], 'id': 3, 'is_impossible': False, 'question': 'شرکت فولاد مبارکه در سال ۱۳۹۱ چه جایزه ای برد؟'}, {'answers': [{'answer_end': 17, 'answer_start': 0, 'text': 'شرکت فولاد مبارکۀ'}], 'id': 4, 'is_impossible': False, 'question': 'بزرگ ترین مجموعه تولید فولاد ایران چیست؟'}, {'answers': [{'answer_end': 508, 'answer_start': 504, 'text': '۱۳۷۱'}], 'id': 5, 'is_impossible': False, 'question': 'فولاد مبارکه در چه سالی احداث شد؟'}, {'answers': [{'answer_end': 815, 'answer_start': 728, 'text': ' در کمترین میزان خود، ۱٫۵٪ از دبی زاینده\\u200cرود برابر سالانه ۲۳ میلیون متر مکعب در سال است'}], 'id': 6, 'is_impossible': False, 'question': 'مصرف آب فولاد مبارکه چقدر است؟'}, {'answers': [{'answer_end': 24, 'answer_start': 0, 'text': 'شرکت فولاد مبارکۀ اصفهان'}], 'id': 7, 'is_impossible': False, 'question': ' بزرگ\\u200cترین واحد صنعتی خصوصی در ایران چیست؟'}, {'answers': [], 'id': 8, 'is_impossible': True, 'question': 'شرکت فولاد مبارکۀ اصفهان چند سال سابقه دارد؟'}, {'answers': [], 'id': 9, 'is_impossible': True, 'question': 'شرکت فولاد مبارکۀ اصفهان در چه سالی برنده جایزه کار آفرینی شد؟'}, {'answers': [], 'id': 10, 'is_impossible': True, 'question': 'مساحت فولاد مبارکۀ اصفهان '}]}], 'title': 'شرکت فولاد مبارکه اصفهان'}}\n",
            "Sample test example: {'data': {'paragraphs': [{'context': 'باشگاه فوتبال رئال مادرید یک باشگاه حرفه\\u200cای فوتبال است که در مادرید، پایتخت اسپانیا قرار دارد. رئال موفق\\u200cترین تیم تاریخ فوتبال اسپانیا و موفق\\u200cترین تیم تاریخ فوتبال اروپا و موفق\\u200cترین تیم فوتبال سدهٔ ۲۰ میلادی به انتخاب فیفا است. آن\\u200cها دارای رکورد ۳۴ بار قهرمانی در لالیگا، ۱۹ قهرمانی در کوپا دل ری (جام حذفی)، ۱۰ سوپرکاپ اسپانیا، ۱۳ قهرمانی در لیگ قهرمانان اروپا، ۲ جام یوفا، ۴ سوپرکاپ اروپا و ۴ قهرمانی در جام باشگاه\\u200cهای جهان هستند. رئال مادرید رکورددار قهرمانی در لیگ قهرمانان اروپا با ۱۳ قهرمانی و جام باشگاه های جهان با ۴ قهرمانی است. همچنین رئال مادرید برنده بهترین باشگاه قرن از سوی فیفا شده\\u200cاست. همچنین کلمهٔ رئال در زبان اسپانیایی، به معنی «سلطنتی» است، این لقب را شاه آلفونسو سیزدهم در سال ۱۹۲۰ بر این تیم نهاد. همچنین در همان سال، شکل یک تاج نیز بر روی آرم این باشگاه قرار گرفت. رئال مادرید سال\\u200cهاست که در لالیگا، از تیم\\u200cهای قدرتمند محسوب می\\u200cشود و رقیب اصلی این تیم نیز، بارسلونا است. از نظر درآمد، رئال مادرید با ۵۵۷ میلیون یورو درآمد در فصل ۱۵–۲۰۱۴ در صدر پردرآمدترین باشگاه\\u200cهای فوتبال جهان بوده\\u200cاست.', 'qas': [{'answers': [{'answer_end': 25, 'answer_start': 19, 'text': 'مادرید'}, {'answer_end': 25, 'answer_start': 19, 'text': 'مادرید'}], 'id': 9101, 'is_impossible': False, 'question': 'پایتخت اسپانیا کجاست؟'}, {'answers': [{'answer_end': 222, 'answer_start': 218, 'text': 'فیفا'}, {'answer_end': 222, 'answer_start': 208, 'text': 'به انتخاب فیفا'}], 'id': 9103, 'is_impossible': False, 'question': 'بر چه اساسی رئال موفق ترین تیم در تاریخ فوتبال اروپا است؟'}, {'answers': [{'answer_end': 331, 'answer_start': 329, 'text': '۱۳'}, {'answer_end': 331, 'answer_start': 329, 'text': '۱۳'}], 'id': 9105, 'is_impossible': False, 'question': 'رئال مادرید چند بار در لیگ قهرمانان اروپا به عنوان قهرمانی رسیده؟'}, {'answers': [{'answer_end': 654, 'answer_start': 648, 'text': 'سلطنتی'}, {'answer_end': 654, 'answer_start': 648, 'text': 'سلطنتی'}], 'id': 9107, 'is_impossible': False, 'question': 'معنی واژه رئال به اسپانیایی چیست؟'}, {'answers': [{'answer_end': 83, 'answer_start': 61, 'text': 'مادرید، پایتخت اسپانیا'}, {'answer_end': 83, 'answer_start': 76, 'text': 'اسپانیا'}], 'id': 9109, 'is_impossible': False, 'question': 'تیم رئال مادرید برای کجاست؟'}, {'answers': [{'answer_end': 718, 'answer_start': 672, 'text': 'شاه آلفونسو سیزدهم در سال ۱۹۲۰ بر این تیم نهاد'}, {'answer_end': 690, 'answer_start': 672, 'text': 'شاه آلفونسو سیزدهم'}], 'id': 9111, 'is_impossible': False, 'question': 'لقب باشگاه رئال مادرید از کجا میاد؟'}, {'answers': [{'answer_end': 892, 'answer_start': 857, 'text': 'رقیب اصلی این تیم نیز، بارسلونا است'}, {'answer_end': 888, 'answer_start': 880, 'text': 'بارسلونا'}], 'id': 9113, 'is_impossible': False, 'question': 'دشمن اصلی باشگاه فوتبال رئال مادرید کدام تیم است؟'}, {'answers': [], 'id': 9115, 'is_impossible': True, 'question': 'بارسلونا چند بار قهرمان لیگ قهرمانان اروپا شده؟'}, {'answers': [], 'id': 9116, 'is_impossible': True, 'question': 'باشگاه فوتبال رئال مادرید در چه سالی تاسیس شده؟'}, {'answers': [], 'id': 9117, 'is_impossible': True, 'question': 'رکورددار بیشترین قهرمانی در لیگ قهرمانان آسیا کدام تیم است؟'}]}], 'title': 'باشگاه فوتبال رئال مادرید'}}\n"
          ]
        }
      ]
    },
    {
      "cell_type": "code",
      "source": [
        "\n",
        "def add_token_positions(example):\n",
        "    # Tokenize with offsets, attention mask, and token types\n",
        "    tokenized = tokenizer(\n",
        "        example[\"question\"],\n",
        "        example[\"context\"],\n",
        "        truncation=True,\n",
        "        max_length=384,\n",
        "        padding=\"max_length\",\n",
        "        return_offsets_mapping=True,\n",
        "        return_attention_mask=True,\n",
        "        return_token_type_ids=True\n",
        "    )\n",
        "\n",
        "    # Get char positions\n",
        "    if len(example[\"answers\"][\"answer_start\"]) > 0:\n",
        "        start_char = example[\"answers\"][\"answer_start\"][0]\n",
        "        end_char = start_char + len(example[\"answers\"][\"text\"][0])\n",
        "    else:\n",
        "        start_char, end_char = -1, -1  # For unanswerable questions\n",
        "\n",
        "    # Map char positions to token positions\n",
        "    offset_mapping = tokenized[\"offset_mapping\"]\n",
        "    sequence_ids = tokenized.sequence_ids()\n",
        "\n",
        "    start_token, end_token = 0, 0  # Default to [CLS] for unanswerable\n",
        "    if start_char != -1:\n",
        "        for i, (offset, seq_id) in enumerate(zip(offset_mapping, sequence_ids)):\n",
        "            if seq_id == 1:  # Context part\n",
        "                if offset[0] <= start_char < offset[1]:\n",
        "                    start_token = i\n",
        "                if offset[0] < end_char <= offset[1]:\n",
        "                    end_token = i\n",
        "\n",
        "    tokenized[\"start_positions\"] = start_token\n",
        "    tokenized[\"end_positions\"] = end_token\n",
        "\n",
        "    # Preserve id and answers\n",
        "    tokenized[\"id\"] = example[\"id\"]\n",
        "    tokenized[\"answers\"] = example[\"answers\"]\n",
        "\n",
        "    # Remove offset_mapping (as per your original function)\n",
        "    tokenized.pop(\"offset_mapping\")\n",
        "\n",
        "    return tokenized\n",
        "\n",
        "# Apply preprocessing\n",
        "tokenized_train = pquad[\"train\"].map(add_token_positions, remove_columns=[\"title\", \"context\", \"question\"])\n",
        "tokenized_test = pquad[\"test\"].map(add_token_positions, remove_columns=[\"title\", \"context\", \"question\"])\n",
        "\n",
        "# Verify tokenized dataset\n",
        "print(\"Tokenized train keys:\", tokenized_train[0].keys())\n",
        "print(\"Tokenized test keys:\", tokenized_test[0].keys())\n",
        "print(\"Sample tokenized test example:\", {k: tokenized_test[0][k] for k in ['id', 'answers', 'start_positions', 'end_positions']})\n",
        "\n",
        "# Check unanswerable questions\n",
        "unanswerable = [ex for ex in tokenized_test if not ex[\"answers\"][\"text\"]]\n",
        "print(f\"Number of unanswerable questions in test: {len(unanswerable)}\")\n",
        "if unanswerable:\n",
        "    print(\"Sample unanswerable example:\", unanswerable[0][\"id\"], unanswerable[0][\"answers\"])"
      ],
      "metadata": {
        "colab": {
          "base_uri": "https://localhost:8080/",
          "height": 170,
          "referenced_widgets": [
            "14279dd64f9043639e13661a7cfe9bc2",
            "7ff15b6f10cf45ad97fde137319ddb4e",
            "ea38c5720b9744729358f5672b56c4e1",
            "a5500586f96d44cfbc4ed77539ef6b16",
            "c282cc1072904aa79f4cf7adc4300d5a",
            "adb83579f3574355b4dbb06e5549319a",
            "1ed94c641f634bf8b4e2524ebff4592f",
            "c8e4d3c1bbdb41ce9f6ff3577617a8be",
            "80f4adfef3e245b58cadd5ce269f167c",
            "854f41ae44aa4711bd9911b6b4adf4ea",
            "308f80c4177748eb8efb756d0e668dee",
            "59cc5cd4088d4dd0a499063c11ef0ac1",
            "ea77d3142a2e422aa081398ab07c0eca",
            "9c4886e35799424a85d83670a06dcb8e",
            "f891906c36634b5ebb5af23637e074fc",
            "4e36c99650144efa96fed733cd38192f",
            "a21f937f18454d8993237b44d0151fa2",
            "c07ffab866554af6a195aa30c67a6b5a",
            "55754822bc0d4db1b041800f3a97516c",
            "9c56ab523760404eb45a53f4de5e301a",
            "0a9384f91ff34d648130329e10b0e3fe",
            "26d42f31542f461ba40994f4d181be1a"
          ]
        },
        "id": "2mEKS3I_mTd4",
        "outputId": "14073405-fe44-47c9-cb2e-34f88deea117"
      },
      "execution_count": 15,
      "outputs": [
        {
          "output_type": "display_data",
          "data": {
            "text/plain": [
              "Map:   0%|          | 0/9008 [00:00<?, ? examples/s]"
            ],
            "application/vnd.jupyter.widget-view+json": {
              "version_major": 2,
              "version_minor": 0,
              "model_id": "14279dd64f9043639e13661a7cfe9bc2"
            }
          },
          "metadata": {}
        },
        {
          "output_type": "display_data",
          "data": {
            "text/plain": [
              "Map:   0%|          | 0/930 [00:00<?, ? examples/s]"
            ],
            "application/vnd.jupyter.widget-view+json": {
              "version_major": 2,
              "version_minor": 0,
              "model_id": "59cc5cd4088d4dd0a499063c11ef0ac1"
            }
          },
          "metadata": {}
        },
        {
          "output_type": "stream",
          "name": "stdout",
          "text": [
            "Tokenized train keys: dict_keys(['id', 'answers', 'input_ids', 'token_type_ids', 'attention_mask', 'start_positions', 'end_positions'])\n",
            "Tokenized test keys: dict_keys(['id', 'answers', 'input_ids', 'token_type_ids', 'attention_mask', 'start_positions', 'end_positions'])\n",
            "Sample tokenized test example: {'id': 9101, 'answers': {'answer_start': [19, 19], 'text': ['مادرید', 'مادرید']}, 'start_positions': 9, 'end_positions': 9}\n",
            "Number of unanswerable questions in test: 279\n",
            "Sample unanswerable example: 9115 {'answer_start': [], 'text': []}\n"
          ]
        }
      ]
    },
    {
      "cell_type": "markdown",
      "source": [
        "## Define evaluation functions"
      ],
      "metadata": {
        "id": "cI-jq3uGtCUR"
      }
    },
    {
      "cell_type": "code",
      "source": [
        "def postprocess_qa_predictions(examples, features, raw_predictions, tokenizer, n_best_size=20, max_answer_length=30):\n",
        "    all_start_logits, all_end_logits = raw_predictions\n",
        "    predictions = {}\n",
        "\n",
        "    for i, feature in enumerate(features):\n",
        "        example_id = examples[i][\"id\"]\n",
        "        start_logits = all_start_logits[i]\n",
        "        end_logits = all_end_logits[i]\n",
        "\n",
        "        # Get top-N start and end logits\n",
        "        start_indexes = np.argsort(start_logits)[-1 : -n_best_size - 1 : -1].tolist()\n",
        "        end_indexes = np.argsort(end_logits)[-1 : -n_best_size - 1 : -1].tolist()\n",
        "\n",
        "        valid_answers = []\n",
        "        for start_index in start_indexes:\n",
        "            for end_index in end_indexes:\n",
        "                if end_index < start_index or end_index - start_index + 1 > max_answer_length:\n",
        "                    continue\n",
        "                if start_index >= len(feature[\"input_ids\"]) or end_index >= len(feature[\"input_ids\"]):\n",
        "                    continue\n",
        "                score = start_logits[start_index] + end_logits[end_index]\n",
        "                answer_ids = feature[\"input_ids\"][start_index:end_index + 1]\n",
        "                answer = tokenizer.decode(answer_ids, skip_special_tokens=True)\n",
        "                valid_answers.append({\"score\": score, \"text\": answer})\n",
        "\n",
        "        if valid_answers:\n",
        "            best_answer = max(valid_answers, key=lambda x: x[\"score\"])\n",
        "            predictions[example_id] = best_answer[\"text\"]\n",
        "        else:\n",
        "            predictions[example_id] = \"\"  # Empty string for unanswerable\n",
        "\n",
        "    return predictions\n",
        "\n",
        "\n",
        "\n",
        "def compute_metrics(p):\n",
        "    metric = load(\"squad\")\n",
        "\n",
        "    # Get predictions\n",
        "    predictions = postprocess_qa_predictions(\n",
        "        tokenized_test, tokenized_test, p.predictions, tokenizer\n",
        "    )\n",
        "\n",
        "    # Convert predictions to correct format with string IDs\n",
        "    formatted_predictions = [\n",
        "        {\"id\": str(k), \"prediction_text\": v} for k, v in predictions.items()\n",
        "    ]\n",
        "\n",
        "    # Convert references to correct format with string IDs\n",
        "    formatted_references = []\n",
        "    for ex in tokenized_test:\n",
        "        answers = ex[\"answers\"]\n",
        "        # Handle unanswerable questions\n",
        "        if not answers[\"text\"] or not answers[\"answer_start\"]:\n",
        "            answers = {\"text\": [\"\"], \"answer_start\": [0]}\n",
        "        formatted_references.append({\"id\": str(ex[\"id\"]), \"answers\": answers})\n",
        "\n",
        "    # Compute metrics\n",
        "    return metric.compute(predictions=formatted_predictions, references=formatted_references)\n",
        "\n",
        "\n",
        "# Test compute_metrics with dummy data\n",
        "dummy_start_logits = np.zeros((len(tokenized_test), 384))  # Match max_length\n",
        "dummy_end_logits = np.zeros((len(tokenized_test), 384))\n",
        "dummy_start_logits[:, 0] = 1\n",
        "dummy_end_logits[:, 1] = 1\n",
        "dummy_predictions = (dummy_start_logits, dummy_end_logits)\n",
        "# Create mock EvalPrediction object\n",
        "metrics = compute_metrics(type('EvalPrediction', (), {'predictions': dummy_predictions})())\n",
        "print(\"Dummy metrics:\", metrics)"
      ],
      "metadata": {
        "colab": {
          "base_uri": "https://localhost:8080/"
        },
        "id": "eQ3a9oyzmXjP",
        "outputId": "b43d7b99-9a76-4c4e-cf4e-a9e67b149485"
      },
      "execution_count": 16,
      "outputs": [
        {
          "output_type": "stream",
          "name": "stdout",
          "text": [
            "Dummy metrics: {'exact_match': 0.0, 'f1': 1.8729472217437855}\n"
          ]
        }
      ]
    },
    {
      "cell_type": "markdown",
      "source": [
        "## Set up and run training"
      ],
      "metadata": {
        "id": "AazenLtJtHkc"
      }
    },
    {
      "cell_type": "code",
      "source": [
        "\n",
        "training_args = TrainingArguments(\n",
        "    output_dir=\"./parsbert-pquad\",\n",
        "    eval_strategy=\"epoch\",\n",
        "    save_strategy=\"epoch\",\n",
        "    learning_rate=3e-5,\n",
        "    per_device_train_batch_size=16,\n",
        "    per_device_eval_batch_size=16,\n",
        "    num_train_epochs=2,\n",
        "    weight_decay=0.01,\n",
        "    save_total_limit=2,\n",
        "    logging_dir=\"./logs\",\n",
        "    logging_steps=100,\n",
        "    load_best_model_at_end=True,\n",
        "    metric_for_best_model=\"f1\",\n",
        "    greater_is_better=True,\n",
        "    report_to=\"none\"\n",
        ")\n",
        "\n",
        "trainer = Trainer(\n",
        "    model=model,\n",
        "    args=training_args,\n",
        "    train_dataset=tokenized_train,\n",
        "    eval_dataset=tokenized_test,\n",
        "    tokenizer=tokenizer,\n",
        "    compute_metrics=compute_metrics\n",
        ")\n",
        "\n",
        "trainer.train()\n",
        "print(\"Training finished!\")"
      ],
      "metadata": {
        "colab": {
          "base_uri": "https://localhost:8080/",
          "height": 194
        },
        "id": "FlLPnCe2oz9i",
        "outputId": "f5245b74-510c-4f6a-b45c-a7e35520e1d5"
      },
      "execution_count": 19,
      "outputs": [
        {
          "output_type": "stream",
          "name": "stderr",
          "text": [
            "/tmp/ipython-input-37935098.py:19: FutureWarning: `tokenizer` is deprecated and will be removed in version 5.0.0 for `Trainer.__init__`. Use `processing_class` instead.\n",
            "  trainer = Trainer(\n"
          ]
        },
        {
          "output_type": "display_data",
          "data": {
            "text/plain": [
              "<IPython.core.display.HTML object>"
            ],
            "text/html": [
              "\n",
              "    <div>\n",
              "      \n",
              "      <progress value='1126' max='1126' style='width:300px; height:20px; vertical-align: middle;'></progress>\n",
              "      [1126/1126 23:12, Epoch 2/2]\n",
              "    </div>\n",
              "    <table border=\"1\" class=\"dataframe\">\n",
              "  <thead>\n",
              " <tr style=\"text-align: left;\">\n",
              "      <th>Epoch</th>\n",
              "      <th>Training Loss</th>\n",
              "      <th>Validation Loss</th>\n",
              "      <th>Exact Match</th>\n",
              "      <th>F1</th>\n",
              "    </tr>\n",
              "  </thead>\n",
              "  <tbody>\n",
              "    <tr>\n",
              "      <td>1</td>\n",
              "      <td>2.253400</td>\n",
              "      <td>1.766209</td>\n",
              "      <td>37.849462</td>\n",
              "      <td>34.925462</td>\n",
              "    </tr>\n",
              "    <tr>\n",
              "      <td>2</td>\n",
              "      <td>1.196800</td>\n",
              "      <td>1.840587</td>\n",
              "      <td>38.172043</td>\n",
              "      <td>35.785600</td>\n",
              "    </tr>\n",
              "  </tbody>\n",
              "</table><p>"
            ]
          },
          "metadata": {}
        },
        {
          "output_type": "stream",
          "name": "stdout",
          "text": [
            "Training finished!\n"
          ]
        }
      ]
    },
    {
      "cell_type": "markdown",
      "source": [
        "## Evaluate, Predict, and Save Model"
      ],
      "metadata": {
        "id": "G_3jUgF0tL_-"
      }
    },
    {
      "cell_type": "code",
      "source": [
        "eval_results = trainer.evaluate()\n",
        "print(\"Evaluation results:\", eval_results)\n",
        "\n",
        "predictions = trainer.predict(tokenized_test)\n",
        "preds = postprocess_qa_predictions(tokenized_test, tokenized_test, predictions.predictions, tokenizer)\n",
        "\n",
        "\n",
        "# Save model\n",
        "trainer.save_model(\"./parsbert-pquad-best\")\n",
        "tokenizer.save_pretrained(\"./parsbert-pquad-best\")"
      ],
      "metadata": {
        "colab": {
          "base_uri": "https://localhost:8080/",
          "height": 144
        },
        "id": "YP4gfHy22qws",
        "outputId": "a3861a33-de05-4709-c865-f81c30255bb2",
        "collapsed": true
      },
      "execution_count": 20,
      "outputs": [
        {
          "output_type": "display_data",
          "data": {
            "text/plain": [
              "<IPython.core.display.HTML object>"
            ],
            "text/html": []
          },
          "metadata": {}
        },
        {
          "output_type": "stream",
          "name": "stdout",
          "text": [
            "Evaluation results: {'eval_loss': 1.8405866622924805, 'eval_exact_match': 38.17204301075269, 'eval_f1': 35.78560037865217, 'eval_runtime': 27.3852, 'eval_samples_per_second': 33.96, 'eval_steps_per_second': 2.154, 'epoch': 2.0}\n"
          ]
        },
        {
          "output_type": "execute_result",
          "data": {
            "text/plain": [
              "('./parsbert-pquad-best/tokenizer_config.json',\n",
              " './parsbert-pquad-best/special_tokens_map.json',\n",
              " './parsbert-pquad-best/vocab.txt',\n",
              " './parsbert-pquad-best/added_tokens.json',\n",
              " './parsbert-pquad-best/tokenizer.json')"
            ]
          },
          "metadata": {},
          "execution_count": 20
        }
      ]
    }
  ]
}